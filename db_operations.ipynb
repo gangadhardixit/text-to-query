{
 "cells": [
  {
   "cell_type": "code",
   "execution_count": 6,
   "id": "84e4e0f6-3699-49b5-bf24-317173b055e9",
   "metadata": {},
   "outputs": [
    {
     "name": "stdout",
     "output_type": "stream",
     "text": [
      "Requirement already satisfied: db-sqlite3 in c:\\users\\gdixit\\appdata\\local\\anaconda3\\lib\\site-packages (0.0.1)\n",
      "Requirement already satisfied: db in c:\\users\\gdixit\\appdata\\local\\anaconda3\\lib\\site-packages (from db-sqlite3) (0.1.1)\n",
      "Requirement already satisfied: antiorm in c:\\users\\gdixit\\appdata\\local\\anaconda3\\lib\\site-packages (from db->db-sqlite3) (1.2.1)\n"
     ]
    }
   ],
   "source": [
    "!pip install db-sqlite3"
   ]
  },
  {
   "cell_type": "code",
   "execution_count": 7,
   "id": "6047fcbb-ae0a-4151-8755-6e23df060026",
   "metadata": {},
   "outputs": [
    {
     "name": "stdout",
     "output_type": "stream",
     "text": [
      "Database created and 100 employee records inserted successfully.\n"
     ]
    }
   ],
   "source": [
    "import sqlite3\n",
    "import random\n",
    "import string\n",
    "\n",
    "# Function to generate random names\n",
    "def random_name(length=7):\n",
    "    return ''.join(random.choices(string.ascii_letters, k=length)).capitalize()\n",
    "\n",
    "# Function to generate random email\n",
    "def random_email(name):\n",
    "    domains = [\"example.com\", \"company.org\", \"test.net\"]\n",
    "    return f\"{name.lower()}@{random.choice(domains)}\"\n",
    "\n",
    "# Connect to SQLite database (or create it)\n",
    "conn = sqlite3.connect(\"employee.db\")\n",
    "cursor = conn.cursor()\n",
    "\n",
    "# Create the employee table\n",
    "cursor.execute(\"\"\"\n",
    "CREATE TABLE IF NOT EXISTS employee (\n",
    "    id INTEGER PRIMARY KEY AUTOINCREMENT,\n",
    "    name TEXT NOT NULL,\n",
    "    age INTEGER,\n",
    "    department TEXT,\n",
    "    email TEXT UNIQUE\n",
    ")\n",
    "\"\"\")\n",
    "\n",
    "# Define sample departments\n",
    "departments = [\"HR\", \"Engineering\", \"Marketing\", \"Sales\", \"Finance\", \"Support\"]\n",
    "\n",
    "# Insert 100 random employee records\n",
    "for _ in range(100):\n",
    "    name = random_name()\n",
    "    age = random.randint(21, 60)\n",
    "    department = random.choice(departments)\n",
    "    email = random_email(name + str(random.randint(1000, 9999)))  # Ensure unique email\n",
    "\n",
    "    try:\n",
    "        cursor.execute(\"INSERT INTO employee (name, age, department, email) VALUES (?, ?, ?, ?)\",\n",
    "                       (name, age, department, email))\n",
    "    except sqlite3.IntegrityError:\n",
    "        continue  # Skip duplicate emails\n",
    "\n",
    "# Commit changes and close connection\n",
    "conn.commit()\n",
    "conn.close()\n",
    "\n",
    "print(\"Database created and 100 employee records inserted successfully.\")\n"
   ]
  },
  {
   "cell_type": "code",
   "execution_count": null,
   "id": "0831798c-05ef-4284-9a0b-554491e2cc17",
   "metadata": {},
   "outputs": [],
   "source": []
  }
 ],
 "metadata": {
  "kernelspec": {
   "display_name": "Python 3 (ipykernel)",
   "language": "python",
   "name": "python3"
  },
  "language_info": {
   "codemirror_mode": {
    "name": "ipython",
    "version": 3
   },
   "file_extension": ".py",
   "mimetype": "text/x-python",
   "name": "python",
   "nbconvert_exporter": "python",
   "pygments_lexer": "ipython3",
   "version": "3.12.7"
  }
 },
 "nbformat": 4,
 "nbformat_minor": 5
}
